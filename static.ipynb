{
 "cells": [
  {
   "cell_type": "code",
   "execution_count": null,
   "metadata": {},
   "outputs": [],
   "source": [
    "fileHandler  =  open  (\"/home/nfs_data/lupu/CenterPoint-KITTI/gt_ratio\",  \"r\")\n",
    "# Get list of all lines in file\n",
    "listOfLines  =  fileHandler.readlines()\n",
    "# Close file\n",
    "fileHandler.close()\n",
    "ratio_list = []\n",
    "for  line in  listOfLines:\n",
    "    ratio_list.append(float(line))\n",
    "    "
   ]
  },
  {
   "cell_type": "code",
   "execution_count": null,
   "metadata": {},
   "outputs": [],
   "source": [
    "import matplotlib.pyplot as plt\n",
    "import numpy as np\n",
    "from matplotlib.pyplot import MultipleLocator\n",
    "\n",
    "x_major_locator=MultipleLocator(0.1)\n",
    "ratio_list =np.array(ratio_list)\n",
    "# sort the data:\n",
    "\n",
    "data_sorted = np.sort(ratio_list)\n",
    "\n",
    "# calculate the proportional values of samples\n",
    "\n",
    "p = 1. * np.arange(len(ratio_list))\n",
    "\n",
    "# plot the sorted data:\n",
    "\n",
    "fig = plt.figure()\n",
    "\n",
    "ax2 = fig.add_subplot(122)\n",
    "\n",
    "ax2.plot(data_sorted, p)\n",
    "\n",
    "ax2.set_xlabel('$x$')\n",
    "\n",
    "ax2.set_ylabel('$p$')\n",
    "ax2.xaxis.set_major_locator(x_major_locator)\n"
   ]
  },
  {
   "cell_type": "code",
   "execution_count": null,
   "metadata": {},
   "outputs": [],
   "source": [
    "import seaborn as sns\n",
    "sns.distplot(ratio_list,bins=100, rug=True, hist=True)"
   ]
  },
  {
   "cell_type": "code",
   "execution_count": null,
   "metadata": {},
   "outputs": [],
   "source": [
    "import matplotlib.pyplot as plt\n",
    "import seaborn as sns\n",
    "from matplotlib.pyplot import MultipleLocator\n",
    "x_major_locator=MultipleLocator(0.1)\n",
    "plt.rcParams['font.sans-serif'] = ['STSong']\n",
    "fig, ax = plt.subplots()\n",
    "ax.xaxis.set_major_locator(x_major_locator)\n",
    "\n",
    "plt.xlim(0,1)\n",
    "# color='#4c0009',\n",
    "# color='#003153',\n",
    "# color='#8f4b28'\n",
    "#label=\"ratio_list\"\n",
    "kwargs = dict(color='#4c0009', alpha=0.5,  bins=100)\n",
    "plt.hist(ratio_list,**kwargs)\n",
    "plt.legend(fontsize=10,loc = \"upper right\")\n",
    "fig.tight_layout()\n",
    "plt.savefig('running_faeture1.png',dpi=600)"
   ]
  },
  {
   "cell_type": "code",
   "execution_count": null,
   "metadata": {},
   "outputs": [],
   "source": [
    "import matplotlib.pyplot as plt\n",
    "import numpy as np\n",
    "import pandas as pd\n",
    "from pandas import Series,DataFrame\n",
    "import seaborn as sns\n",
    "import palettable#python颜色库\n",
    "from sklearn import datasets \n",
    "import torch\n",
    "\n",
    "plt.rcParams['font.sans-serif']=['SimHei']  # 用于显示中文\n",
    "plt.rcParams['axes.unicode_minus'] = False  # 用于显示中文\n",
    "pc = torch.load('/home/lupu123456/nsf/CenterPoint-KITTI/tools/visualization/heatmaps_DropNotGTVoxelVFE0.25.pth')\n",
    "# plt.figure(dpi=200)\n",
    "# plt.figure(figsize=(20,10))\n",
    "fig,axes=plt.subplots(1,3)\n",
    "plt.subplots_adjust(wspace=0.2)\n",
    "pred_heatmaps = pc['pred_heatmaps'].cpu().detach().numpy()\n",
    "gt_heatmaps = pc['gt_heatmaps'].cpu().detach().numpy()\n",
    "pc1 = torch.load('/home/lupu123456/nsf/CenterPoint-KITTI/tools/visualization/heatmaps_DropVoxelVFE0.25.pth')\n",
    "pred_heatmaps1 = pc1['pred_heatmaps'].cpu().detach().numpy()\n",
    "print(pred_heatmaps.shape)\n",
    "print(np.max(pred_heatmaps))\n",
    "fig.set_size_inches(18.5, 5.5)\n",
    "# left_ = -1\n",
    "# right_ = -1\n",
    "# height_ = -1\n",
    "# bottom_ = -1\n",
    "# for i in range(pred_heatmaps.shape[2]):\n",
    "#         for j in range(pred_heatmaps.shape[3]):\n",
    "#                 if pred_heatmaps[0][1][i][j] > 0.6:\n",
    "#                 if left_ == -1:\n",
    "#                         left_ = i\n",
    "#                         right_ = i\n",
    "#                         height_ =j\n",
    "#                         bottom_ = j     \n",
    "#         else\n",
    "df = pd.DataFrame(gt_heatmaps[0][0][0:266,0:312])#设置DataFrame的列标签\n",
    "p =sns.heatmap(cmap=\"RdPu\",data=df,ax=axes[0],vmax=1,vmin=0,xticklabels=False,yticklabels=False)\n",
    "p.set_title(\"GT\")\n",
    "df = pd.DataFrame(pred_heatmaps[0][0][0:266,0:312])#设置DataFrame的列标签\n",
    "p = sns.heatmap(cmap=\"RdPu\",data=df,ax=axes[1],vmax=1,vmin=0,cbar=False,xticklabels=False,yticklabels=False)\n",
    "p.set_title(\"NotGTDrop\")\n",
    "df = pd.DataFrame(pred_heatmaps1[0][0][0:266,0:312])#设置DataFrame的列标签\n",
    "p = sns.heatmap(cmap=\"RdPu\",data=df,ax=axes[2],vmax=1,vmin=0,cbar=False,xticklabels=False,yticklabels=False)\n",
    "p.set_title(\"RandomDrop\")"
   ]
  },
  {
   "cell_type": "code",
   "execution_count": null,
   "metadata": {},
   "outputs": [],
   "source": [
    "pc = torch.load('/home/lupu123456/nsf/CenterPoint-KITTI/tools/visualization/heatmaps_DropNotGTVoxelVFE0.25.pth')\n",
    "fig,axes=plt.subplots(1,3)\n",
    "plt.subplots_adjust(wspace=0.2)\n",
    "pred_heatmaps = pc['pred_heatmaps'].cpu().detach().numpy()\n",
    "gt_heatmaps = pc['gt_heatmaps'].cpu().detach().numpy()\n",
    "print(pred_heatmaps.shape)\n",
    "print(np.max(pred_heatmaps))\n",
    "fig.set_size_inches(18.5, 5.5)\n",
    "# for i in range(pred_heatmaps.shape[2]):\n",
    "#     for j in range(pred_heatmaps.shape[3]):\n",
    "\n",
    "        # if pred_heatmaps[0][1][i][j] == 1.0:\n",
    "        #     exit()\n",
    "df = pd.DataFrame(gt_heatmaps[0][1][49:211,0:158])#设置DataFrame的列标签\n",
    "p =sns.heatmap(cmap=\"RdPu\",data=df,ax=axes[0],vmax=1,vmin=0,cbar=False,xticklabels=False,yticklabels=False)\n",
    "p.set_title(\"GT\")\n",
    "df = pd.DataFrame(pred_heatmaps[0][1][49:211,0:158])#设置DataFrame的列标签\n",
    "p = sns.heatmap(cmap=\"RdPu\",data=df,ax=axes[1],vmax=1,vmin=0,cbar=False,xticklabels=False,yticklabels=False)\n",
    "p.set_title(\"NotGTDrop\")\n",
    "pc = torch.load('/home/lupu123456/nsf/CenterPoint-KITTI/tools/visualization/heatmaps_DropVoxelVFE0.25.pth')\n",
    "pred_heatmaps = pc['pred_heatmaps'].cpu().detach().numpy()\n",
    "df = pd.DataFrame(pred_heatmaps[0][1][49:211,0:158])#设置DataFrame的列标签\n",
    "p = sns.heatmap(cmap=\"RdPu\",data=df,ax=axes[2],vmax=1,vmin=0,cbar=False,xticklabels=False,yticklabels=False)\n",
    "p.set_title(\"RandomDrop\")"
   ]
  },
  {
   "cell_type": "code",
   "execution_count": null,
   "metadata": {},
   "outputs": [],
   "source": [
    "pc = torch.load('/home/lupu123456/nsf/CenterPoint-KITTI/tools/visualization/heatmaps_DropNotGTVoxelVFE0.25.pth')\n",
    "fig,axes=plt.subplots(1,3)\n",
    "plt.subplots_adjust(wspace=0.2)\n",
    "pred_heatmaps = pc['pred_heatmaps'].cpu().detach().numpy()\n",
    "gt_heatmaps = pc['gt_heatmaps'].cpu().detach().numpy()\n",
    "print(pred_heatmaps.shape)\n",
    "print(np.max(pred_heatmaps))\n",
    "fig.set_size_inches(18.5, 5.5)\n",
    "# for i in range(pred_heatmaps.shape[2]):\n",
    "#     for j in range(pred_heatmaps.shape[3]):\n",
    "\n",
    "        # if pred_heatmaps[0][1][i][j] == 1.0:\n",
    "        #     exit()\n",
    "df = pd.DataFrame(gt_heatmaps[0][2][0:210,12:228])#设置DataFrame的列标签\n",
    "p =sns.heatmap(cmap=\"RdPu\",data=df,ax=axes[0],vmax=1,vmin=0,cbar=False,xticklabels=False,yticklabels=False)\n",
    "p.set_title(\"GT\")\n",
    "df = pd.DataFrame(pred_heatmaps[0][2][0:210,12:228])#设置DataFrame的列标签\n",
    "p = sns.heatmap(cmap=\"RdPu\",data=df,ax=axes[1],vmax=1,vmin=0,cbar=False,xticklabels=False,yticklabels=False)\n",
    "p.set_title(\"NotGTDrop\")\n",
    "pc = torch.load('/home/lupu123456/nsf/CenterPoint-KITTI/tools/visualization/heatmaps_DropVoxelVFE0.5.pth')\n",
    "pred_heatmaps = pc['pred_heatmaps'].cpu().detach().numpy()\n",
    "df = pd.DataFrame(pred_heatmaps[0][2][0:210,12:228])#设置DataFrame的列标签\n",
    "p = sns.heatmap(cmap=\"RdPu\",data=df,ax=axes[2],vmax=1,vmin=0,cbar=False,xticklabels=False,yticklabels=False)\n",
    "p.set_title(\"RandomDrop\")"
   ]
  },
  {
   "cell_type": "code",
   "execution_count": 35,
   "metadata": {},
   "outputs": [
    {
     "name": "stdout",
     "output_type": "stream",
     "text": [
      "50.5665/46.4981/44.2941\n",
      "(-3.23/-6.1188/-3.9919)"
     ]
    }
   ],
   "source": [
    "origin = \"77.2723/63.3541/58.7832\"\n",
    "new = \"50.5665, 46.4981, 44.2941\"\n",
    "origin = origin.split(', ')\n",
    "new =new.split(', ')\n",
    "for i in range(3):\n",
    "    if i == 2:\n",
    "        print(new[i],)\n",
    "        continue\n",
    "    print(new[i],end='/')\n",
    "result=[]\n",
    "for i,_ in enumerate(origin):\n",
    "    result.append(round(float(new[i])-float(origin[i]),4))\n",
    "print('(',end='')\n",
    "for i in range(3):\n",
    "    if i == 2:\n",
    "        print(result[i],end=')')\n",
    "        continue\n",
    "    print(result[i],end='/')"
   ]
  },
  {
   "cell_type": "code",
   "execution_count": null,
   "metadata": {},
   "outputs": [],
   "source": []
  },
  {
   "cell_type": "code",
   "execution_count": null,
   "metadata": {},
   "outputs": [],
   "source": [
    "origin = \"77.2723, 63.3541, 58.7832\"\n",
    "origin = origin.split(', ')\n",
    "for i in range(3):\n",
    "    if i == 2:\n",
    "        print(origin[i],end='')\n",
    "        continue\n",
    "    print(origin[i],end='/')"
   ]
  },
  {
   "cell_type": "markdown",
   "metadata": {},
   "source": []
  }
 ],
 "metadata": {
  "kernelspec": {
   "display_name": "Python 3.8.12 ('PCDet')",
   "language": "python",
   "name": "python3"
  },
  "language_info": {
   "codemirror_mode": {
    "name": "ipython",
    "version": 3
   },
   "file_extension": ".py",
   "mimetype": "text/x-python",
   "name": "python",
   "nbconvert_exporter": "python",
   "pygments_lexer": "ipython3",
   "version": "3.8.12"
  },
  "orig_nbformat": 4,
  "vscode": {
   "interpreter": {
    "hash": "d73da2f11abd6aece780e7a8ef24cf05a484ad63dc0935abba376aa8f32587f6"
   }
  }
 },
 "nbformat": 4,
 "nbformat_minor": 2
}
